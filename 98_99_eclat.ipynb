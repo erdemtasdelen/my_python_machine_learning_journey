{
 "cells": [
  {
   "cell_type": "code",
   "execution_count": 3,
   "id": "a6a2d6ca-fca8-4fac-bcde-a0b43dc02d7a",
   "metadata": {},
   "outputs": [],
   "source": [
    "import pandas as pd\n",
    "from pyECLAT import ECLAT"
   ]
  },
  {
   "cell_type": "code",
   "execution_count": 4,
   "id": "655de4c0-1fc4-45ef-aa19-fff3f0251f90",
   "metadata": {},
   "outputs": [
    {
     "name": "stdout",
     "output_type": "stream",
     "text": [
      "       0      1          2           3\n",
      "0   MILK  BREAD    BISCUIT        None\n",
      "1  BREAD   MILK    BISCUIT  CORNFLAKES\n",
      "2  BREAD    TEA  BOURNVITA        None\n",
      "3    JAM  MAGGI      BREAD        MILK\n",
      "4  MAGGI    TEA    BISCUIT        None\n"
     ]
    }
   ],
   "source": [
    "\n",
    "with open(\"/Users/erdemtasdelen/Downloads/GroceryStoreDataSet.csv\", \"r\", encoding=\"utf-8\") as file:\n",
    "    satirlar = file.readlines()\n",
    "\n",
    "veri = []\n",
    "for satir in satirlar:\n",
    "    urunler = satir.strip().split(\",\")\n",
    "    veri.append(urunler)\n",
    "\n",
    "veri_df = pd.DataFrame(veri)\n",
    "print(veri_df.head())\n"
   ]
  },
  {
   "cell_type": "code",
   "execution_count": 5,
   "id": "47142a8c-2a6f-4bea-9d91-ff0dbe1904d8",
   "metadata": {},
   "outputs": [
    {
     "name": "stdout",
     "output_type": "stream",
     "text": [
      "         0       1           2           3\n",
      "0     MILK   BREAD     BISCUIT        None\n",
      "1    BREAD    MILK     BISCUIT  CORNFLAKES\n",
      "2    BREAD     TEA   BOURNVITA        None\n",
      "3      JAM   MAGGI       BREAD        MILK\n",
      "4    MAGGI     TEA     BISCUIT        None\n",
      "5    BREAD     TEA   BOURNVITA        None\n",
      "6    MAGGI     TEA  CORNFLAKES        None\n",
      "7    MAGGI   BREAD         TEA     BISCUIT\n",
      "8      JAM   MAGGI       BREAD         TEA\n",
      "9    BREAD    MILK        None        None\n",
      "10  COFFEE    COCK     BISCUIT  CORNFLAKES\n",
      "11  COFFEE    COCK     BISCUIT  CORNFLAKES\n",
      "12  COFFEE   SUGER   BOURNVITA        None\n",
      "13   BREAD  COFFEE        COCK        None\n",
      "14   BREAD   SUGER     BISCUIT        None\n",
      "15  COFFEE   SUGER  CORNFLAKES        None\n",
      "16   BREAD   SUGER   BOURNVITA        None\n",
      "17   BREAD  COFFEE       SUGER        None\n",
      "18   BREAD  COFFEE       SUGER        None\n",
      "19     TEA    MILK      COFFEE  CORNFLAKES\n"
     ]
    }
   ],
   "source": [
    "veri2=pd.DataFrame(veri)\n",
    "print(veri2)"
   ]
  },
  {
   "cell_type": "code",
   "execution_count": 11,
   "id": "fcff361b-cc9a-4667-9f3d-f4bf744a16b3",
   "metadata": {},
   "outputs": [
    {
     "name": "stdout",
     "output_type": "stream",
     "text": [
      "4\n"
     ]
    }
   ],
   "source": [
    "minürün=2\n",
    "mindestek=0.02\n",
    "maxürün=max([len(x) for x in veri])\n",
    "print(maxürün)"
   ]
  },
  {
   "cell_type": "code",
   "execution_count": 12,
   "id": "09a47270-56d5-45d2-9326-033a9f482917",
   "metadata": {},
   "outputs": [
    {
     "name": "stderr",
     "output_type": "stream",
     "text": [
      "100%|█████████████████████████████████████████| 12/12 [00:00<00:00, 1192.95it/s]\n",
      "100%|███████████████████████████████████████| 12/12 [00:00<00:00, 164482.51it/s]\n",
      "100%|█████████████████████████████████████████| 12/12 [00:00<00:00, 3372.76it/s]\n"
     ]
    },
    {
     "name": "stdout",
     "output_type": "stream",
     "text": [
      "Combination 2 by 2\n"
     ]
    },
    {
     "name": "stderr",
     "output_type": "stream",
     "text": [
      "55it [00:00, 640.81it/s]\n"
     ]
    },
    {
     "name": "stdout",
     "output_type": "stream",
     "text": [
      "Combination 3 by 3\n"
     ]
    },
    {
     "name": "stderr",
     "output_type": "stream",
     "text": [
      "165it [00:00, 1133.24it/s]\n"
     ]
    },
    {
     "name": "stdout",
     "output_type": "stream",
     "text": [
      "Combination 4 by 4\n"
     ]
    },
    {
     "name": "stderr",
     "output_type": "stream",
     "text": [
      "330it [00:00, 1233.86it/s]"
     ]
    },
    {
     "name": "stdout",
     "output_type": "stream",
     "text": [
      "{'TEA & MAGGI': 0.2, 'TEA & BREAD': 0.2, 'TEA & BOURNVITA': 0.1, 'TEA & CORNFLAKES': 0.1, 'TEA & JAM': 0.05, 'TEA & COFFEE': 0.05, 'TEA & MILK': 0.05, 'TEA & BISCUIT': 0.1, 'MAGGI & BREAD': 0.15, 'MAGGI & CORNFLAKES': 0.05, 'MAGGI & JAM': 0.1, 'MAGGI & MILK': 0.05, 'MAGGI & BISCUIT': 0.1, 'BREAD & SUGER': 0.2, 'BREAD & BOURNVITA': 0.15, 'BREAD & CORNFLAKES': 0.05, 'BREAD & JAM': 0.1, 'BREAD & COFFEE': 0.15, 'BREAD & COCK': 0.05, 'BREAD & MILK': 0.2, 'BREAD & BISCUIT': 0.2, 'SUGER & BOURNVITA': 0.1, 'SUGER & CORNFLAKES': 0.05, 'SUGER & COFFEE': 0.2, 'SUGER & BISCUIT': 0.05, 'BOURNVITA & COFFEE': 0.05, 'CORNFLAKES & COFFEE': 0.2, 'CORNFLAKES & COCK': 0.1, 'CORNFLAKES & MILK': 0.1, 'CORNFLAKES & BISCUIT': 0.15, 'JAM & MILK': 0.05, 'COFFEE & COCK': 0.15, 'COFFEE & MILK': 0.05, 'COFFEE & BISCUIT': 0.1, 'COCK & BISCUIT': 0.1, 'MILK & BISCUIT': 0.1, 'TEA & MAGGI & BREAD': 0.1, 'TEA & MAGGI & CORNFLAKES': 0.05, 'TEA & MAGGI & JAM': 0.05, 'TEA & MAGGI & BISCUIT': 0.1, 'TEA & BREAD & BOURNVITA': 0.1, 'TEA & BREAD & JAM': 0.05, 'TEA & BREAD & BISCUIT': 0.05, 'TEA & CORNFLAKES & COFFEE': 0.05, 'TEA & CORNFLAKES & MILK': 0.05, 'TEA & COFFEE & MILK': 0.05, 'MAGGI & BREAD & JAM': 0.1, 'MAGGI & BREAD & MILK': 0.05, 'MAGGI & BREAD & BISCUIT': 0.05, 'MAGGI & JAM & MILK': 0.05, 'BREAD & SUGER & BOURNVITA': 0.05, 'BREAD & SUGER & COFFEE': 0.1, 'BREAD & SUGER & BISCUIT': 0.05, 'BREAD & CORNFLAKES & MILK': 0.05, 'BREAD & CORNFLAKES & BISCUIT': 0.05, 'BREAD & JAM & MILK': 0.05, 'BREAD & COFFEE & COCK': 0.05, 'BREAD & MILK & BISCUIT': 0.1, 'SUGER & BOURNVITA & COFFEE': 0.05, 'SUGER & CORNFLAKES & COFFEE': 0.05, 'CORNFLAKES & COFFEE & COCK': 0.1, 'CORNFLAKES & COFFEE & MILK': 0.05, 'CORNFLAKES & COFFEE & BISCUIT': 0.1, 'CORNFLAKES & COCK & BISCUIT': 0.1, 'CORNFLAKES & MILK & BISCUIT': 0.05, 'COFFEE & COCK & BISCUIT': 0.1, 'TEA & MAGGI & BREAD & JAM': 0.05, 'TEA & MAGGI & BREAD & BISCUIT': 0.05, 'TEA & CORNFLAKES & COFFEE & MILK': 0.05, 'MAGGI & BREAD & JAM & MILK': 0.05, 'BREAD & CORNFLAKES & MILK & BISCUIT': 0.05, 'CORNFLAKES & COFFEE & COCK & BISCUIT': 0.1}\n"
     ]
    },
    {
     "name": "stderr",
     "output_type": "stream",
     "text": [
      "\n"
     ]
    }
   ],
   "source": [
    "ec=ECLAT(veri2, verbose=True)\n",
    "\n",
    "a,b=ec.fit(min_support=mindestek, min_combination=minürün, max_combination=maxürün)\n",
    "print(b)"
   ]
  },
  {
   "cell_type": "code",
   "execution_count": null,
   "id": "9e458139-47eb-41d8-b239-9646820f7806",
   "metadata": {},
   "outputs": [],
   "source": []
  }
 ],
 "metadata": {
  "kernelspec": {
   "display_name": "Python 3 (ipykernel)",
   "language": "python",
   "name": "python3"
  },
  "language_info": {
   "codemirror_mode": {
    "name": "ipython",
    "version": 3
   },
   "file_extension": ".py",
   "mimetype": "text/x-python",
   "name": "python",
   "nbconvert_exporter": "python",
   "pygments_lexer": "ipython3",
   "version": "3.13.2"
  }
 },
 "nbformat": 4,
 "nbformat_minor": 5
}
