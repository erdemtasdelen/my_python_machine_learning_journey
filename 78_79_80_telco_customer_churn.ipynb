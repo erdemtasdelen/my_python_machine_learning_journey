{
 "cells": [
  {
   "cell_type": "code",
   "execution_count": 17,
   "id": "b0c27c3e-1788-4398-bb1d-59e3619517af",
   "metadata": {},
   "outputs": [],
   "source": [
    "import pandas as pd\n",
    "import matplotlib.pyplot as plt\n",
    "from sklearn.preprocessing import LabelEncoder, StandardScaler\n",
    "from sklearn.model_selection import train_test_split, GridSearchCV\n",
    "from lazypredict.Supervised import LazyClassifier\n",
    "from sklearn.svm import LinearSVC, SVC\n",
    "from sklearn.linear_model import RidgeClassifier, LogisticRegression\n",
    "from sklearn.ensemble import RandomForestClassifier\n",
    "from lightgbm import LGBMClassifier\n",
    "from xgboost import XGBClassifier\n",
    "from sklearn.metrics import accuracy_score\n"
   ]
  },
  {
   "cell_type": "code",
   "execution_count": 18,
   "id": "4ee0fb68-38f4-44e3-bd63-0a94006beaf0",
   "metadata": {},
   "outputs": [],
   "source": [
    "data=pd.read_csv(\"/Users/erdemtasdelen/Downloads/Telco-Customer-Churn.csv\")\n",
    "veri=data.copy()"
   ]
  },
  {
   "cell_type": "code",
   "execution_count": 19,
   "id": "57bd7e95-91f1-4209-92e9-18bac8dc63da",
   "metadata": {},
   "outputs": [
    {
     "name": "stdout",
     "output_type": "stream",
     "text": [
      "      customerID  gender  SeniorCitizen Partner Dependents  tenure  \\\n",
      "0     7590-VHVEG  Female              0     Yes         No       1   \n",
      "1     5575-GNVDE    Male              0      No         No      34   \n",
      "2     3668-QPYBK    Male              0      No         No       2   \n",
      "3     7795-CFOCW    Male              0      No         No      45   \n",
      "4     9237-HQITU  Female              0      No         No       2   \n",
      "...          ...     ...            ...     ...        ...     ...   \n",
      "7038  6840-RESVB    Male              0     Yes        Yes      24   \n",
      "7039  2234-XADUH  Female              0     Yes        Yes      72   \n",
      "7040  4801-JZAZL  Female              0     Yes        Yes      11   \n",
      "7041  8361-LTMKD    Male              1     Yes         No       4   \n",
      "7042  3186-AJIEK    Male              0      No         No      66   \n",
      "\n",
      "     PhoneService     MultipleLines InternetService OnlineSecurity  ...  \\\n",
      "0              No  No phone service             DSL             No  ...   \n",
      "1             Yes                No             DSL            Yes  ...   \n",
      "2             Yes                No             DSL            Yes  ...   \n",
      "3              No  No phone service             DSL            Yes  ...   \n",
      "4             Yes                No     Fiber optic             No  ...   \n",
      "...           ...               ...             ...            ...  ...   \n",
      "7038          Yes               Yes             DSL            Yes  ...   \n",
      "7039          Yes               Yes     Fiber optic             No  ...   \n",
      "7040           No  No phone service             DSL            Yes  ...   \n",
      "7041          Yes               Yes     Fiber optic             No  ...   \n",
      "7042          Yes                No     Fiber optic            Yes  ...   \n",
      "\n",
      "     DeviceProtection TechSupport StreamingTV StreamingMovies        Contract  \\\n",
      "0                  No          No          No              No  Month-to-month   \n",
      "1                 Yes          No          No              No        One year   \n",
      "2                  No          No          No              No  Month-to-month   \n",
      "3                 Yes         Yes          No              No        One year   \n",
      "4                  No          No          No              No  Month-to-month   \n",
      "...               ...         ...         ...             ...             ...   \n",
      "7038              Yes         Yes         Yes             Yes        One year   \n",
      "7039              Yes          No         Yes             Yes        One year   \n",
      "7040               No          No          No              No  Month-to-month   \n",
      "7041               No          No          No              No  Month-to-month   \n",
      "7042              Yes         Yes         Yes             Yes        Two year   \n",
      "\n",
      "     PaperlessBilling              PaymentMethod MonthlyCharges  TotalCharges  \\\n",
      "0                 Yes           Electronic check          29.85         29.85   \n",
      "1                  No               Mailed check          56.95        1889.5   \n",
      "2                 Yes               Mailed check          53.85        108.15   \n",
      "3                  No  Bank transfer (automatic)          42.30       1840.75   \n",
      "4                 Yes           Electronic check          70.70        151.65   \n",
      "...               ...                        ...            ...           ...   \n",
      "7038              Yes               Mailed check          84.80        1990.5   \n",
      "7039              Yes    Credit card (automatic)         103.20        7362.9   \n",
      "7040              Yes           Electronic check          29.60        346.45   \n",
      "7041              Yes               Mailed check          74.40         306.6   \n",
      "7042              Yes  Bank transfer (automatic)         105.65        6844.5   \n",
      "\n",
      "     Churn  \n",
      "0       No  \n",
      "1       No  \n",
      "2      Yes  \n",
      "3       No  \n",
      "4      Yes  \n",
      "...    ...  \n",
      "7038    No  \n",
      "7039    No  \n",
      "7040    No  \n",
      "7041   Yes  \n",
      "7042    No  \n",
      "\n",
      "[7043 rows x 21 columns]\n"
     ]
    }
   ],
   "source": [
    "print(veri)"
   ]
  },
  {
   "cell_type": "code",
   "execution_count": 20,
   "id": "3fcbcb0b-2c75-493c-8209-f31d632b0501",
   "metadata": {},
   "outputs": [
    {
     "name": "stdout",
     "output_type": "stream",
     "text": [
      "<class 'pandas.core.frame.DataFrame'>\n",
      "RangeIndex: 7043 entries, 0 to 7042\n",
      "Data columns (total 21 columns):\n",
      " #   Column            Non-Null Count  Dtype  \n",
      "---  ------            --------------  -----  \n",
      " 0   customerID        7043 non-null   object \n",
      " 1   gender            7043 non-null   object \n",
      " 2   SeniorCitizen     7043 non-null   int64  \n",
      " 3   Partner           7043 non-null   object \n",
      " 4   Dependents        7043 non-null   object \n",
      " 5   tenure            7043 non-null   int64  \n",
      " 6   PhoneService      7043 non-null   object \n",
      " 7   MultipleLines     7043 non-null   object \n",
      " 8   InternetService   7043 non-null   object \n",
      " 9   OnlineSecurity    7043 non-null   object \n",
      " 10  OnlineBackup      7043 non-null   object \n",
      " 11  DeviceProtection  7043 non-null   object \n",
      " 12  TechSupport       7043 non-null   object \n",
      " 13  StreamingTV       7043 non-null   object \n",
      " 14  StreamingMovies   7043 non-null   object \n",
      " 15  Contract          7043 non-null   object \n",
      " 16  PaperlessBilling  7043 non-null   object \n",
      " 17  PaymentMethod     7043 non-null   object \n",
      " 18  MonthlyCharges    7043 non-null   float64\n",
      " 19  TotalCharges      7043 non-null   object \n",
      " 20  Churn             7043 non-null   object \n",
      "dtypes: float64(1), int64(2), object(18)\n",
      "memory usage: 1.1+ MB\n",
      "None\n"
     ]
    }
   ],
   "source": [
    "print(veri.info())"
   ]
  },
  {
   "cell_type": "code",
   "execution_count": 21,
   "id": "07cc0261-f2e7-441b-a62f-902dceacbe36",
   "metadata": {},
   "outputs": [],
   "source": [
    "veri=veri.drop(columns=\"customerID\", axis=1)"
   ]
  },
  {
   "cell_type": "code",
   "execution_count": 22,
   "id": "260a83b7-e4d4-4f39-a162-4418323cab71",
   "metadata": {},
   "outputs": [],
   "source": [
    "veri = veri.rename({\n",
    "    \"gender\": \"Cinsiyet\",\n",
    "    \"SeniorCitizen\": \"65 Yaş Üstü\",\n",
    "    \"Partner\": \"Medeni Durum\",\n",
    "    \"Dependents\": \"Bakma Sorumluluğu\",\n",
    "    \"tenure\": \"Kişinin Müşteri Olma Süresi (Ay)\",\n",
    "    \"PhoneService\": \"Ev Telefon Aboneliği\",\n",
    "    \"MultipleLines\": \"Birden Fazla Abonelik Durumu\",\n",
    "    \"InternetService\": \"İnternet Aboneliği\",\n",
    "    \"OnlineSecurity\": \"Güvenlik Hizmeti Aboneliği\",\n",
    "    \"OnlineBackup\": \"Yedekleme Hizmeti Aboneliği\",\n",
    "    \"DeviceProtection\": \"Ekipman Güvenlik Aboneliği\",\n",
    "    \"TechSupport\": \"Teknik Destek Aboneliği\",\n",
    "    \"StreamingTV\": \"Netflix\",\n",
    "    \"StreamingMovies\": \"Film Aboneliği\",\n",
    "    \"Contract\": \"Sözleşme Süresi\",\n",
    "    \"PaperlessBilling\": \"Online Fatura\",\n",
    "    \"PaymentMethod\": \"Ödeme Türü\",\n",
    "    \"MonthlyCharges\": \"Aylık Ücret\",\n",
    "    \"TotalCharges\": \"Toplam Ücret\",\n",
    "    \"Churn\": \"Kayıp Durumu\"\n",
    "}, axis=1)\n"
   ]
  },
  {
   "cell_type": "code",
   "execution_count": 23,
   "id": "475548c2-87f6-4234-a4f9-910ca8f9e413",
   "metadata": {},
   "outputs": [
    {
     "name": "stdout",
     "output_type": "stream",
     "text": [
      "<class 'pandas.core.frame.DataFrame'>\n",
      "RangeIndex: 7043 entries, 0 to 7042\n",
      "Data columns (total 20 columns):\n",
      " #   Column                            Non-Null Count  Dtype  \n",
      "---  ------                            --------------  -----  \n",
      " 0   Cinsiyet                          7043 non-null   object \n",
      " 1   65 Yaş Üstü                       7043 non-null   int64  \n",
      " 2   Medeni Durum                      7043 non-null   object \n",
      " 3   Bakma Sorumluluğu                 7043 non-null   object \n",
      " 4   Kişinin Müşteri Olma Süresi (Ay)  7043 non-null   int64  \n",
      " 5   Ev Telefon Aboneliği              7043 non-null   object \n",
      " 6   Birden Fazla Abonelik Durumu      7043 non-null   object \n",
      " 7   İnternet Aboneliği                7043 non-null   object \n",
      " 8   Güvenlik Hizmeti Aboneliği        7043 non-null   object \n",
      " 9   Yedekleme Hizmeti Aboneliği       7043 non-null   object \n",
      " 10  Ekipman Güvenlik Aboneliği        7043 non-null   object \n",
      " 11  Teknik Destek Aboneliği           7043 non-null   object \n",
      " 12  Netflix                           7043 non-null   object \n",
      " 13  Film Aboneliği                    7043 non-null   object \n",
      " 14  Sözleşme Süresi                   7043 non-null   object \n",
      " 15  Online Fatura                     7043 non-null   object \n",
      " 16  Ödeme Türü                        7043 non-null   object \n",
      " 17  Aylık Ücret                       7043 non-null   float64\n",
      " 18  Toplam Ücret                      7043 non-null   object \n",
      " 19  Kayıp Durumu                      7043 non-null   object \n",
      "dtypes: float64(1), int64(2), object(17)\n",
      "memory usage: 1.1+ MB\n",
      "None\n"
     ]
    }
   ],
   "source": [
    "print(veri.info())"
   ]
  },
  {
   "cell_type": "code",
   "execution_count": 24,
   "id": "7f13ef30-c9fd-41f9-8ca6-a97f439d2640",
   "metadata": {},
   "outputs": [
    {
     "name": "stdout",
     "output_type": "stream",
     "text": [
      "Cinsiyet\n",
      "65 Yaş Üstü\n",
      "Medeni Durum\n",
      "Bakma Sorumluluğu\n",
      "Kişinin Müşteri Olma Süresi (Ay)\n",
      "Ev Telefon Aboneliği\n",
      "Birden Fazla Abonelik Durumu\n",
      "İnternet Aboneliği\n",
      "Güvenlik Hizmeti Aboneliği\n",
      "Yedekleme Hizmeti Aboneliği\n",
      "Ekipman Güvenlik Aboneliği\n",
      "Teknik Destek Aboneliği\n",
      "Netflix\n",
      "Film Aboneliği\n",
      "Sözleşme Süresi\n",
      "Online Fatura\n",
      "Ödeme Türü\n",
      "Aylık Ücret\n",
      "Toplam Ücret\n",
      "Kayıp Durumu\n"
     ]
    }
   ],
   "source": [
    "for i in veri.columns:\n",
    "    print(i)"
   ]
  },
  {
   "cell_type": "code",
   "execution_count": 25,
   "id": "e74d6e0a-d1b0-4341-be4f-aeb239453d03",
   "metadata": {},
   "outputs": [
    {
     "name": "stdout",
     "output_type": "stream",
     "text": [
      "object\n"
     ]
    }
   ],
   "source": [
    "print(veri[i].dtypes)"
   ]
  },
  {
   "cell_type": "code",
   "execution_count": 26,
   "id": "b8ae950e-6658-4f5a-acce-42cc44c0dbe6",
   "metadata": {},
   "outputs": [
    {
     "name": "stdout",
     "output_type": "stream",
     "text": [
      "['No' 'Yes']\n"
     ]
    }
   ],
   "source": [
    "print(veri[i].unique())"
   ]
  },
  {
   "cell_type": "code",
   "execution_count": 27,
   "id": "d256e4ff-f896-44e5-8fb8-15530b974317",
   "metadata": {},
   "outputs": [],
   "source": [
    "veri[\"Cinsiyet\"]=[\"Erkek\" if kod==\"Male\" else \"Kadın\" for kod in veri[\"Cinsiyet\"]]\n",
    "veri[\"65 Yaş Üstü\"]=[\"Evet\" if kod==1 else \"Hayır\" for kod in veri[\"65 Yaş Üstü\"]]\n",
    "veri[\"Medeni Durum\"]=[\"Evli\" if kod==\"Yes\" else \"Bekar\" for kod in veri[\"Medeni Durum\"]]\n",
    "veri[\"Bakma Sorumluluğu\"]=[\"Var\" if kod==\"Yes\" else \"Yok\" for kod in veri[\"Bakma Sorumluluğu\"]]\n",
    "veri[\"Ev Telefon Aboneliği\"]=[\"Var\" if kod==\"Yes\" else \"Yok\" for kod in veri[\"Ev Telefon Aboneliği\"]]\n",
    "veri[\"Birden Fazla Abonelik Durumu\"]=[\"Var\" if kod==\"Yes\" else \"Yok\" for kod in veri[\"Birden Fazla Abonelik Durumu\"]]\n",
    "veri[\"İnternet Aboneliği\"]=[\"Yok\" if kod==\"No\" else kod for kod in veri[\"İnternet Aboneliği\"]]\n",
    "veri[\"Güvenlik Hizmeti Aboneliği\"]=[\"Var\" if kod==\"Yes\" else \"Yok\" for kod in veri[\"Güvenlik Hizmeti Aboneliği\"]]\n",
    "veri[\"Yedekleme Hizmeti Aboneliği\"]=[\"Var\" if kod==\"Yes\" else \"Yok\" for kod in veri[\"Yedekleme Hizmeti Aboneliği\"]]\n",
    "veri[\"Ekipman Güvenlik Aboneliği\"]=[\"Var\" if kod==\"Yes\" else \"Yok\" for kod in veri[\"Ekipman Güvenlik Aboneliği\"]]\n",
    "veri[\"Teknik Destek Aboneliği\"]=[\"Var\" if kod==\"Yes\" else \"Yok\" for kod in veri[\"Teknik Destek Aboneliği\"]]\n",
    "veri[\"Netflix\"]=[\"Var\" if kod==\"Yes\" else \"Yok\" for kod in veri[\"Netflix\"]]\n",
    "veri[\"Film Aboneliği\"]=[\"Var\" if kod==\"Yes\" else \"Yok\" for kod in veri[\"Film Aboneliği\"]]\n",
    "veri[\"Sözleşme Süresi\"]=[\"1 Aylık\" if kod==\"Month-to-month\" else \"1 Yıllık\" if kod==\"One Year\" else \"2 Yıllık\" for kod in veri[\"Sözleşme Süresi\"]]\n",
    "veri[\"Online Fatura\"]=[\"Evet\" if kod==\"Yes\" else \"Hayır\" for kod in veri[\"Online Fatura\"]]\n",
    "veri[\"Ödeme Türü\"]=[\"Elektronik\" if kod==\"Electronic Check\" else \"Mail\" if kod==\"Mailed Check\" else \"Havale\" if kod==\"Bank transfer (automatic)\" else \"Kredi Kartı\" for kod in veri[\"Ödeme Türü\"]]\n",
    "veri[\"Kayıp Durumu\"]=[\"Evet\" if kod==\"Yes\" else \"Hayır\" for kod in veri[\"Kayıp Durumu\"]]\n"
   ]
  },
  {
   "cell_type": "code",
   "execution_count": 28,
   "id": "0fcdac83-d667-4135-9a31-79698d71663c",
   "metadata": {},
   "outputs": [
    {
     "name": "stdout",
     "output_type": "stream",
     "text": [
      "Cinsiyet\n",
      "['Kadın' 'Erkek']\n",
      "65 Yaş Üstü\n",
      "['Hayır' 'Evet']\n",
      "Medeni Durum\n",
      "['Evli' 'Bekar']\n",
      "Bakma Sorumluluğu\n",
      "['Yok' 'Var']\n",
      "Kişinin Müşteri Olma Süresi (Ay)\n",
      "[ 1 34  2 45  8 22 10 28 62 13 16 58 49 25 69 52 71 21 12 30 47 72 17 27\n",
      "  5 46 11 70 63 43 15 60 18 66  9  3 31 50 64 56  7 42 35 48 29 65 38 68\n",
      " 32 55 37 36 41  6  4 33 67 23 57 61 14 20 53 40 59 24 44 19 54 51 26  0\n",
      " 39]\n",
      "Ev Telefon Aboneliği\n",
      "['Yok' 'Var']\n",
      "Birden Fazla Abonelik Durumu\n",
      "['Yok' 'Var']\n",
      "İnternet Aboneliği\n",
      "['DSL' 'Fiber optic' 'Yok']\n",
      "Güvenlik Hizmeti Aboneliği\n",
      "['Yok' 'Var']\n",
      "Yedekleme Hizmeti Aboneliği\n",
      "['Var' 'Yok']\n",
      "Ekipman Güvenlik Aboneliği\n",
      "['Yok' 'Var']\n",
      "Teknik Destek Aboneliği\n",
      "['Yok' 'Var']\n",
      "Netflix\n",
      "['Yok' 'Var']\n",
      "Film Aboneliği\n",
      "['Yok' 'Var']\n",
      "Sözleşme Süresi\n",
      "['1 Aylık' '2 Yıllık']\n",
      "Online Fatura\n",
      "['Evet' 'Hayır']\n",
      "Ödeme Türü\n",
      "['Kredi Kartı' 'Havale']\n",
      "Aylık Ücret\n",
      "[29.85 56.95 53.85 ... 63.1  44.2  78.7 ]\n",
      "Toplam Ücret\n",
      "['29.85' '1889.5' '108.15' ... '346.45' '306.6' '6844.5']\n",
      "Kayıp Durumu\n",
      "['Hayır' 'Evet']\n"
     ]
    }
   ],
   "source": [
    "for i in veri.columns:\n",
    "    print(i)\n",
    "    print(veri[i].unique())"
   ]
  },
  {
   "cell_type": "code",
   "execution_count": 29,
   "id": "4c20e283-517d-4e92-8baf-0375a46cc631",
   "metadata": {},
   "outputs": [],
   "source": [
    "veri[\"Toplam Ücret\"]=pd.to_numeric(veri[\"Toplam Ücret\"],errors=\"coerce\")"
   ]
  },
  {
   "cell_type": "code",
   "execution_count": 30,
   "id": "e4a2f7f1-18e5-49da-bde1-5250923078fd",
   "metadata": {},
   "outputs": [
    {
     "name": "stdout",
     "output_type": "stream",
     "text": [
      "<class 'pandas.core.frame.DataFrame'>\n",
      "RangeIndex: 7043 entries, 0 to 7042\n",
      "Data columns (total 20 columns):\n",
      " #   Column                            Non-Null Count  Dtype  \n",
      "---  ------                            --------------  -----  \n",
      " 0   Cinsiyet                          7043 non-null   object \n",
      " 1   65 Yaş Üstü                       7043 non-null   object \n",
      " 2   Medeni Durum                      7043 non-null   object \n",
      " 3   Bakma Sorumluluğu                 7043 non-null   object \n",
      " 4   Kişinin Müşteri Olma Süresi (Ay)  7043 non-null   int64  \n",
      " 5   Ev Telefon Aboneliği              7043 non-null   object \n",
      " 6   Birden Fazla Abonelik Durumu      7043 non-null   object \n",
      " 7   İnternet Aboneliği                7043 non-null   object \n",
      " 8   Güvenlik Hizmeti Aboneliği        7043 non-null   object \n",
      " 9   Yedekleme Hizmeti Aboneliği       7043 non-null   object \n",
      " 10  Ekipman Güvenlik Aboneliği        7043 non-null   object \n",
      " 11  Teknik Destek Aboneliği           7043 non-null   object \n",
      " 12  Netflix                           7043 non-null   object \n",
      " 13  Film Aboneliği                    7043 non-null   object \n",
      " 14  Sözleşme Süresi                   7043 non-null   object \n",
      " 15  Online Fatura                     7043 non-null   object \n",
      " 16  Ödeme Türü                        7043 non-null   object \n",
      " 17  Aylık Ücret                       7043 non-null   float64\n",
      " 18  Toplam Ücret                      7032 non-null   float64\n",
      " 19  Kayıp Durumu                      7043 non-null   object \n",
      "dtypes: float64(2), int64(1), object(17)\n",
      "memory usage: 1.1+ MB\n",
      "None\n"
     ]
    }
   ],
   "source": [
    "print(veri.info())"
   ]
  },
  {
   "cell_type": "code",
   "execution_count": 31,
   "id": "9642ada6-3d53-487d-8c06-faa8ddbfb58c",
   "metadata": {
    "scrolled": true
   },
   "outputs": [
    {
     "name": "stdout",
     "output_type": "stream",
     "text": [
      "Cinsiyet                             0\n",
      "65 Yaş Üstü                          0\n",
      "Medeni Durum                         0\n",
      "Bakma Sorumluluğu                    0\n",
      "Kişinin Müşteri Olma Süresi (Ay)     0\n",
      "Ev Telefon Aboneliği                 0\n",
      "Birden Fazla Abonelik Durumu         0\n",
      "İnternet Aboneliği                   0\n",
      "Güvenlik Hizmeti Aboneliği           0\n",
      "Yedekleme Hizmeti Aboneliği          0\n",
      "Ekipman Güvenlik Aboneliği           0\n",
      "Teknik Destek Aboneliği              0\n",
      "Netflix                              0\n",
      "Film Aboneliği                       0\n",
      "Sözleşme Süresi                      0\n",
      "Online Fatura                        0\n",
      "Ödeme Türü                           0\n",
      "Aylık Ücret                          0\n",
      "Toplam Ücret                        11\n",
      "Kayıp Durumu                         0\n",
      "dtype: int64\n"
     ]
    }
   ],
   "source": [
    "print(veri.isnull().sum())"
   ]
  },
  {
   "cell_type": "code",
   "execution_count": 32,
   "id": "d14618f1-a00a-4c73-85a4-ae53ae065aee",
   "metadata": {},
   "outputs": [
    {
     "name": "stdout",
     "output_type": "stream",
     "text": [
      "      Kişinin Müşteri Olma Süresi (Ay)  Aylık Ücret  Toplam Ücret\n",
      "0                                    1        29.85         29.85\n",
      "1                                   34        56.95       1889.50\n",
      "2                                    2        53.85        108.15\n",
      "3                                   45        42.30       1840.75\n",
      "4                                    2        70.70        151.65\n",
      "...                                ...          ...           ...\n",
      "7038                                24        84.80       1990.50\n",
      "7039                                72       103.20       7362.90\n",
      "7040                                11        29.60        346.45\n",
      "7041                                 4        74.40        306.60\n",
      "7042                                66       105.65       6844.50\n",
      "\n",
      "[7043 rows x 3 columns]\n"
     ]
    }
   ],
   "source": [
    "print(veri[[\"Kişinin Müşteri Olma Süresi (Ay)\",\"Aylık Ücret\",\"Toplam Ücret\"]])"
   ]
  },
  {
   "cell_type": "code",
   "execution_count": 33,
   "id": "47abfc66-7af1-471f-9599-308ab2f83848",
   "metadata": {},
   "outputs": [
    {
     "name": "stdout",
     "output_type": "stream",
     "text": [
      "0         0.00\n",
      "1       -46.80\n",
      "2         0.45\n",
      "3       -62.75\n",
      "4        10.25\n",
      "         ...  \n",
      "7038    -44.70\n",
      "7039    -67.50\n",
      "7040     20.85\n",
      "7041      9.00\n",
      "7042   -128.40\n",
      "Name: Fark, Length: 7043, dtype: float64\n"
     ]
    }
   ],
   "source": [
    "veri[\"Fark\"]=veri[\"Toplam Ücret\"]-(veri[\"Kişinin Müşteri Olma Süresi (Ay)\"]*veri[\"Aylık Ücret\"])\n",
    "print(veri[\"Fark\"])"
   ]
  },
  {
   "cell_type": "code",
   "execution_count": 34,
   "id": "7dc5cabc-4e63-4795-a04c-9501a0b58a87",
   "metadata": {},
   "outputs": [
    {
     "name": "stdout",
     "output_type": "stream",
     "text": [
      "373.2500000000009\n"
     ]
    }
   ],
   "source": [
    "print(veri[\"Fark\"].max())"
   ]
  },
  {
   "cell_type": "code",
   "execution_count": 35,
   "id": "16cda286-7238-4005-aa86-3d9c36fd33ce",
   "metadata": {},
   "outputs": [
    {
     "name": "stdout",
     "output_type": "stream",
     "text": [
      "     Cinsiyet 65 Yaş Üstü Medeni Durum Bakma Sorumluluğu  \\\n",
      "488     Kadın       Hayır         Evli               Var   \n",
      "753     Erkek       Hayır        Bekar               Var   \n",
      "936     Kadın       Hayır         Evli               Var   \n",
      "1082    Erkek       Hayır         Evli               Var   \n",
      "1340    Kadın       Hayır         Evli               Var   \n",
      "3331    Erkek       Hayır         Evli               Var   \n",
      "3826    Erkek       Hayır         Evli               Var   \n",
      "4380    Kadın       Hayır         Evli               Var   \n",
      "5218    Erkek       Hayır         Evli               Var   \n",
      "6670    Kadın       Hayır         Evli               Var   \n",
      "6754    Erkek       Hayır        Bekar               Var   \n",
      "\n",
      "      Kişinin Müşteri Olma Süresi (Ay) Ev Telefon Aboneliği  \\\n",
      "488                                  0                  Yok   \n",
      "753                                  0                  Var   \n",
      "936                                  0                  Var   \n",
      "1082                                 0                  Var   \n",
      "1340                                 0                  Yok   \n",
      "3331                                 0                  Var   \n",
      "3826                                 0                  Var   \n",
      "4380                                 0                  Var   \n",
      "5218                                 0                  Var   \n",
      "6670                                 0                  Var   \n",
      "6754                                 0                  Var   \n",
      "\n",
      "     Birden Fazla Abonelik Durumu İnternet Aboneliği  \\\n",
      "488                           Yok                DSL   \n",
      "753                           Yok                Yok   \n",
      "936                           Yok                DSL   \n",
      "1082                          Var                Yok   \n",
      "1340                          Yok                DSL   \n",
      "3331                          Yok                Yok   \n",
      "3826                          Var                Yok   \n",
      "4380                          Yok                Yok   \n",
      "5218                          Yok                Yok   \n",
      "6670                          Var                DSL   \n",
      "6754                          Var                DSL   \n",
      "\n",
      "     Güvenlik Hizmeti Aboneliği Yedekleme Hizmeti Aboneliği  ...  \\\n",
      "488                         Var                         Yok  ...   \n",
      "753                         Yok                         Yok  ...   \n",
      "936                         Var                         Var  ...   \n",
      "1082                        Yok                         Yok  ...   \n",
      "1340                        Var                         Var  ...   \n",
      "3331                        Yok                         Yok  ...   \n",
      "3826                        Yok                         Yok  ...   \n",
      "4380                        Yok                         Yok  ...   \n",
      "5218                        Yok                         Yok  ...   \n",
      "6670                        Yok                         Var  ...   \n",
      "6754                        Var                         Var  ...   \n",
      "\n",
      "     Teknik Destek Aboneliği Netflix Film Aboneliği Sözleşme Süresi  \\\n",
      "488                      Var     Var            Yok        2 Yıllık   \n",
      "753                      Yok     Yok            Yok        2 Yıllık   \n",
      "936                      Yok     Var            Var        2 Yıllık   \n",
      "1082                     Yok     Yok            Yok        2 Yıllık   \n",
      "1340                     Var     Var            Yok        2 Yıllık   \n",
      "3331                     Yok     Yok            Yok        2 Yıllık   \n",
      "3826                     Yok     Yok            Yok        2 Yıllık   \n",
      "4380                     Yok     Yok            Yok        2 Yıllık   \n",
      "5218                     Yok     Yok            Yok        2 Yıllık   \n",
      "6670                     Var     Var            Yok        2 Yıllık   \n",
      "6754                     Var     Yok            Yok        2 Yıllık   \n",
      "\n",
      "     Online Fatura   Ödeme Türü Aylık Ücret  Toplam Ücret  Kayıp Durumu Fark  \n",
      "488           Evet       Havale       52.55           NaN         Hayır  NaN  \n",
      "753          Hayır  Kredi Kartı       20.25           NaN         Hayır  NaN  \n",
      "936          Hayır  Kredi Kartı       80.85           NaN         Hayır  NaN  \n",
      "1082         Hayır  Kredi Kartı       25.75           NaN         Hayır  NaN  \n",
      "1340         Hayır  Kredi Kartı       56.05           NaN         Hayır  NaN  \n",
      "3331         Hayır  Kredi Kartı       19.85           NaN         Hayır  NaN  \n",
      "3826         Hayır  Kredi Kartı       25.35           NaN         Hayır  NaN  \n",
      "4380         Hayır  Kredi Kartı       20.00           NaN         Hayır  NaN  \n",
      "5218          Evet  Kredi Kartı       19.70           NaN         Hayır  NaN  \n",
      "6670         Hayır  Kredi Kartı       73.35           NaN         Hayır  NaN  \n",
      "6754          Evet       Havale       61.90           NaN         Hayır  NaN  \n",
      "\n",
      "[11 rows x 21 columns]\n"
     ]
    }
   ],
   "source": [
    "print(veri[veri[\"Kişinin Müşteri Olma Süresi (Ay)\"]==0])"
   ]
  },
  {
   "cell_type": "code",
   "execution_count": 36,
   "id": "0aa3d8c8-7d8f-42fc-90a8-ad9ac79e12fa",
   "metadata": {},
   "outputs": [
    {
     "name": "stdout",
     "output_type": "stream",
     "text": [
      "Cinsiyet                            0\n",
      "65 Yaş Üstü                         0\n",
      "Medeni Durum                        0\n",
      "Bakma Sorumluluğu                   0\n",
      "Kişinin Müşteri Olma Süresi (Ay)    0\n",
      "Ev Telefon Aboneliği                0\n",
      "Birden Fazla Abonelik Durumu        0\n",
      "İnternet Aboneliği                  0\n",
      "Güvenlik Hizmeti Aboneliği          0\n",
      "Yedekleme Hizmeti Aboneliği         0\n",
      "Ekipman Güvenlik Aboneliği          0\n",
      "Teknik Destek Aboneliği             0\n",
      "Netflix                             0\n",
      "Film Aboneliği                      0\n",
      "Sözleşme Süresi                     0\n",
      "Online Fatura                       0\n",
      "Ödeme Türü                          0\n",
      "Aylık Ücret                         0\n",
      "Toplam Ücret                        0\n",
      "Kayıp Durumu                        0\n",
      "Fark                                0\n",
      "dtype: int64\n"
     ]
    }
   ],
   "source": [
    "veri=veri.dropna()\n",
    "print(veri.isnull().sum())"
   ]
  },
  {
   "cell_type": "code",
   "execution_count": 37,
   "id": "9da77233-9103-464f-b31e-fed88bfd0cf6",
   "metadata": {},
   "outputs": [
    {
     "name": "stdout",
     "output_type": "stream",
     "text": [
      "       Kişinin Müşteri Olma Süresi (Ay)  Aylık Ücret  Toplam Ücret    Fark\n",
      "count                           7032.00      7032.00       7032.00 7032.00\n",
      "mean                              32.42        64.80       2283.30    0.15\n",
      "std                               24.55        30.09       2266.77   67.26\n",
      "min                                1.00        18.25         18.80 -370.85\n",
      "25%                                9.00        35.59        401.45  -28.65\n",
      "50%                               29.00        70.35       1397.47    0.00\n",
      "75%                               55.00        89.86       3794.74   28.70\n",
      "max                               72.00       118.75       8684.80  373.25\n"
     ]
    }
   ],
   "source": [
    "print(veri.describe())"
   ]
  },
  {
   "cell_type": "code",
   "execution_count": 38,
   "id": "1bb5c0cb-1664-466c-8908-393459751c1e",
   "metadata": {},
   "outputs": [
    {
     "data": {
      "image/png": "[encoded data removed]",
      "text/plain": [
       "<Figure size 640x480 with 1 Axes>"
      ]
     },
     "metadata": {},
     "output_type": "display_data"
    }
   ],
   "source": [
    "plt.boxplot(veri[\"Kişinin Müşteri Olma Süresi (Ay)\"])\n",
    "plt.show()"
   ]
  },
  {
   "cell_type": "code",
   "execution_count": 39,
   "id": "e44ff2b6-703c-4ba1-902c-e9a71e168f37",
   "metadata": {
    "scrolled": true
   },
   "outputs": [
    {
     "name": "stdout",
     "output_type": "stream",
     "text": [
      "Index(['Cinsiyet', '65 Yaş Üstü', 'Medeni Durum', 'Bakma Sorumluluğu',\n",
      "       'Ev Telefon Aboneliği', 'Birden Fazla Abonelik Durumu',\n",
      "       'İnternet Aboneliği', 'Güvenlik Hizmeti Aboneliği',\n",
      "       'Yedekleme Hizmeti Aboneliği', 'Ekipman Güvenlik Aboneliği',\n",
      "       'Teknik Destek Aboneliği', 'Netflix', 'Film Aboneliği',\n",
      "       'Sözleşme Süresi', 'Online Fatura', 'Ödeme Türü', 'Kayıp Durumu'],\n",
      "      dtype='object')\n"
     ]
    }
   ],
   "source": [
    "print(veri.select_dtypes(include=\"object\").columns)"
   ]
  },
  {
   "cell_type": "code",
   "execution_count": 40,
   "id": "a55cca36-f7ea-43d1-ae35-a9ebbcef385b",
   "metadata": {},
   "outputs": [],
   "source": [
    "le=LabelEncoder()\n",
    "degisken=veri.select_dtypes(include=\"object\").columns\n",
    "veri.update(veri[degisken].apply(le.fit_transform))\n"
   ]
  },
  {
   "cell_type": "code",
   "execution_count": 41,
   "id": "85a81874-5207-47ed-8660-81523d68004b",
   "metadata": {},
   "outputs": [
    {
     "name": "stdout",
     "output_type": "stream",
     "text": [
      "     Cinsiyet 65 Yaş Üstü Medeni Durum Bakma Sorumluluğu  \\\n",
      "0           1           1            1                 1   \n",
      "1           0           1            0                 1   \n",
      "2           0           1            0                 1   \n",
      "3           0           1            0                 1   \n",
      "4           1           1            0                 1   \n",
      "...       ...         ...          ...               ...   \n",
      "7038        0           1            1                 0   \n",
      "7039        1           1            1                 0   \n",
      "7040        1           1            1                 0   \n",
      "7041        0           0            1                 1   \n",
      "7042        0           1            0                 1   \n",
      "\n",
      "      Kişinin Müşteri Olma Süresi (Ay) Ev Telefon Aboneliği  \\\n",
      "0                                    1                    1   \n",
      "1                                   34                    0   \n",
      "2                                    2                    0   \n",
      "3                                   45                    1   \n",
      "4                                    2                    0   \n",
      "...                                ...                  ...   \n",
      "7038                                24                    0   \n",
      "7039                                72                    0   \n",
      "7040                                11                    1   \n",
      "7041                                 4                    0   \n",
      "7042                                66                    0   \n",
      "\n",
      "     Birden Fazla Abonelik Durumu İnternet Aboneliği  \\\n",
      "0                               1                  0   \n",
      "1                               1                  0   \n",
      "2                               1                  0   \n",
      "3                               1                  0   \n",
      "4                               1                  1   \n",
      "...                           ...                ...   \n",
      "7038                            0                  0   \n",
      "7039                            0                  1   \n",
      "7040                            1                  0   \n",
      "7041                            0                  1   \n",
      "7042                            1                  1   \n",
      "\n",
      "     Güvenlik Hizmeti Aboneliği Yedekleme Hizmeti Aboneliği  ...  \\\n",
      "0                             1                           0  ...   \n",
      "1                             0                           1  ...   \n",
      "2                             0                           0  ...   \n",
      "3                             0                           1  ...   \n",
      "4                             1                           1  ...   \n",
      "...                         ...                         ...  ...   \n",
      "7038                          0                           1  ...   \n",
      "7039                          1                           0  ...   \n",
      "7040                          0                           1  ...   \n",
      "7041                          1                           1  ...   \n",
      "7042                          0                           1  ...   \n",
      "\n",
      "     Teknik Destek Aboneliği Netflix Film Aboneliği Sözleşme Süresi  \\\n",
      "0                          1       1              1               0   \n",
      "1                          1       1              1               1   \n",
      "2                          1       1              1               0   \n",
      "3                          0       1              1               1   \n",
      "4                          1       1              1               0   \n",
      "...                      ...     ...            ...             ...   \n",
      "7038                       0       0              0               1   \n",
      "7039                       1       0              0               1   \n",
      "7040                       1       1              1               0   \n",
      "7041                       1       1              1               0   \n",
      "7042                       0       0              0               1   \n",
      "\n",
      "     Online Fatura Ödeme Türü Aylık Ücret  Toplam Ücret  Kayıp Durumu    Fark  \n",
      "0                0          1       29.85         29.85             1    0.00  \n",
      "1                1          1       56.95       1889.50             1  -46.80  \n",
      "2                0          1       53.85        108.15             0    0.45  \n",
      "3                1          0       42.30       1840.75             1  -62.75  \n",
      "4                0          1       70.70        151.65             0   10.25  \n",
      "...            ...        ...         ...           ...           ...     ...  \n",
      "7038             0          1       84.80       1990.50             1  -44.70  \n",
      "7039             0          1      103.20       7362.90             1  -67.50  \n",
      "7040             0          1       29.60        346.45             1   20.85  \n",
      "7041             0          1       74.40        306.60             0    9.00  \n",
      "7042             0          0      105.65       6844.50             1 -128.40  \n",
      "\n",
      "[7032 rows x 21 columns]\n"
     ]
    }
   ],
   "source": [
    "print(veri)"
   ]
  },
  {
   "cell_type": "code",
   "execution_count": 42,
   "id": "59a36b75-d01c-429d-8b19-126a5682a5b9",
   "metadata": {},
   "outputs": [],
   "source": [
    "veri=veri.rename(columns={\"Churn\": \"Kayıp Durumu\"})"
   ]
  },
  {
   "cell_type": "code",
   "execution_count": 43,
   "id": "27ba0938-9080-4e12-8be6-c85a2ad899a7",
   "metadata": {},
   "outputs": [
    {
     "name": "stdout",
     "output_type": "stream",
     "text": [
      "     Cinsiyet 65 Yaş Üstü Medeni Durum Bakma Sorumluluğu  \\\n",
      "0           1           1            1                 1   \n",
      "1           0           1            0                 1   \n",
      "2           0           1            0                 1   \n",
      "3           0           1            0                 1   \n",
      "4           1           1            0                 1   \n",
      "...       ...         ...          ...               ...   \n",
      "7038        0           1            1                 0   \n",
      "7039        1           1            1                 0   \n",
      "7040        1           1            1                 0   \n",
      "7041        0           0            1                 1   \n",
      "7042        0           1            0                 1   \n",
      "\n",
      "      Kişinin Müşteri Olma Süresi (Ay) Ev Telefon Aboneliği  \\\n",
      "0                                    1                    1   \n",
      "1                                   34                    0   \n",
      "2                                    2                    0   \n",
      "3                                   45                    1   \n",
      "4                                    2                    0   \n",
      "...                                ...                  ...   \n",
      "7038                                24                    0   \n",
      "7039                                72                    0   \n",
      "7040                                11                    1   \n",
      "7041                                 4                    0   \n",
      "7042                                66                    0   \n",
      "\n",
      "     Birden Fazla Abonelik Durumu İnternet Aboneliği  \\\n",
      "0                               1                  0   \n",
      "1                               1                  0   \n",
      "2                               1                  0   \n",
      "3                               1                  0   \n",
      "4                               1                  1   \n",
      "...                           ...                ...   \n",
      "7038                            0                  0   \n",
      "7039                            0                  1   \n",
      "7040                            1                  0   \n",
      "7041                            0                  1   \n",
      "7042                            1                  1   \n",
      "\n",
      "     Güvenlik Hizmeti Aboneliği Yedekleme Hizmeti Aboneliği  ...  \\\n",
      "0                             1                           0  ...   \n",
      "1                             0                           1  ...   \n",
      "2                             0                           0  ...   \n",
      "3                             0                           1  ...   \n",
      "4                             1                           1  ...   \n",
      "...                         ...                         ...  ...   \n",
      "7038                          0                           1  ...   \n",
      "7039                          1                           0  ...   \n",
      "7040                          0                           1  ...   \n",
      "7041                          1                           1  ...   \n",
      "7042                          0                           1  ...   \n",
      "\n",
      "     Teknik Destek Aboneliği Netflix Film Aboneliği Sözleşme Süresi  \\\n",
      "0                          1       1              1               0   \n",
      "1                          1       1              1               1   \n",
      "2                          1       1              1               0   \n",
      "3                          0       1              1               1   \n",
      "4                          1       1              1               0   \n",
      "...                      ...     ...            ...             ...   \n",
      "7038                       0       0              0               1   \n",
      "7039                       1       0              0               1   \n",
      "7040                       1       1              1               0   \n",
      "7041                       1       1              1               0   \n",
      "7042                       0       0              0               1   \n",
      "\n",
      "     Online Fatura Ödeme Türü Aylık Ücret  Toplam Ücret  Kayıp Durumu    Fark  \n",
      "0                0          1       29.85         29.85             0    0.00  \n",
      "1                1          1       56.95       1889.50             0  -46.80  \n",
      "2                0          1       53.85        108.15             1    0.45  \n",
      "3                1          0       42.30       1840.75             0  -62.75  \n",
      "4                0          1       70.70        151.65             1   10.25  \n",
      "...            ...        ...         ...           ...           ...     ...  \n",
      "7038             0          1       84.80       1990.50             0  -44.70  \n",
      "7039             0          1      103.20       7362.90             0  -67.50  \n",
      "7040             0          1       29.60        346.45             0   20.85  \n",
      "7041             0          1       74.40        306.60             1    9.00  \n",
      "7042             0          0      105.65       6844.50             0 -128.40  \n",
      "\n",
      "[7032 rows x 21 columns]\n"
     ]
    }
   ],
   "source": [
    "veri[\"Kayıp Durumu\"]=[1 if kod==0 else 0 for kod in veri[\"Kayıp Durumu\"]]\n",
    "print(veri)"
   ]
  },
  {
   "cell_type": "code",
   "execution_count": 44,
   "id": "1a4b2c9e-5802-4447-a271-add6485f84d9",
   "metadata": {},
   "outputs": [],
   "source": [
    "y=veri[\"Kayıp Durumu\"]\n",
    "X=veri.drop(columns=[\"Kayıp Durumu\"],axis=1)\n"
   ]
  },
  {
   "cell_type": "code",
   "execution_count": 45,
   "id": "f7c35a22-3f66-4fba-a874-9e41ffc46801",
   "metadata": {},
   "outputs": [],
   "source": [
    "X=pd.get_dummies(X)\n",
    "y=veri[\"Kayıp Durumu\"]"
   ]
  },
  {
   "cell_type": "code",
   "execution_count": 46,
   "id": "3af1d710-a3b6-47c0-acac-62faad018c55",
   "metadata": {},
   "outputs": [],
   "source": [
    "X_train,X_test,y_train,y_test=train_test_split(X,y,test_size=0.2, random_state=42, stratify=y)\n"
   ]
  },
  {
   "cell_type": "code",
   "execution_count": 47,
   "id": "e0cada11-caf4-430e-8610-d2ba9c496daa",
   "metadata": {},
   "outputs": [],
   "source": [
    "sc=StandardScaler()\n",
    "X_train=sc.fit_transform(X_train)\n",
    "X_test=sc.transform(X_test)"
   ]
  },
  {
   "cell_type": "code",
   "execution_count": 48,
   "id": "3cb2d8e2-91c2-497e-8b54-6f0d40ca1364",
   "metadata": {},
   "outputs": [
    {
     "data": {
      "application/vnd.jupyter.widget-view+json": {
       "model_id": "bd0156916a8647f7aa29dede3f8cc3c4",
       "version_major": 2,
       "version_minor": 0
      },
      "text/plain": [
       "  0%|          | 0/32 [00:00<?, ?it/s]"
      ]
     },
     "metadata": {},
     "output_type": "display_data"
    },
    {
     "name": "stdout",
     "output_type": "stream",
     "text": [
      "[LightGBM] [Info] Number of positive: 1495, number of negative: 4130\n",
      "[LightGBM] [Info] Auto-choosing row-wise multi-threading, the overhead of testing was 0.000736 seconds.\n",
      "You can set `force_row_wise=true` to remove the overhead.\n",
      "And if memory is not enough, you can set `force_col_wise=true`.\n",
      "[LightGBM] [Info] Total Bins 937\n",
      "[LightGBM] [Info] Number of data points in the train set: 5625, number of used features: 37\n",
      "[LightGBM] [Info] [binary:BoostFromScore]: pavg=0.265778 -> initscore=-1.016151\n",
      "[LightGBM] [Info] Start training from score -1.016151\n",
      "                               Accuracy  Balanced Accuracy  ROC AUC  F1 Score  \\\n",
      "Model                                                                           \n",
      "BernoulliNB                        0.74               0.73     0.73      0.75   \n",
      "NearestCentroid                    0.70               0.73     0.73      0.72   \n",
      "GaussianNB                         0.73               0.73     0.73      0.75   \n",
      "LogisticRegression                 0.79               0.72     0.72      0.79   \n",
      "LinearDiscriminantAnalysis         0.79               0.72     0.72      0.79   \n",
      "LinearSVC                          0.79               0.71     0.71      0.79   \n",
      "CalibratedClassifierCV             0.79               0.71     0.71      0.79   \n",
      "RidgeClassifierCV                  0.79               0.70     0.70      0.78   \n",
      "RidgeClassifier                    0.79               0.70     0.70      0.78   \n",
      "LGBMClassifier                     0.78               0.70     0.70      0.78   \n",
      "AdaBoostClassifier                 0.78               0.70     0.70      0.78   \n",
      "SVC                                0.79               0.69     0.69      0.78   \n",
      "SGDClassifier                      0.76               0.69     0.69      0.76   \n",
      "KNeighborsClassifier               0.75               0.69     0.69      0.75   \n",
      "XGBClassifier                      0.77               0.69     0.69      0.76   \n",
      "ExtraTreesClassifier               0.77               0.68     0.68      0.76   \n",
      "RandomForestClassifier             0.77               0.67     0.67      0.76   \n",
      "NuSVC                              0.78               0.67     0.67      0.77   \n",
      "LabelPropagation                   0.72               0.66     0.66      0.72   \n",
      "LabelSpreading                     0.72               0.66     0.66      0.72   \n",
      "BaggingClassifier                  0.75               0.65     0.65      0.74   \n",
      "ExtraTreeClassifier                0.70               0.63     0.63      0.70   \n",
      "QuadraticDiscriminantAnalysis      0.69               0.63     0.63      0.70   \n",
      "DecisionTreeClassifier             0.69               0.62     0.62      0.70   \n",
      "PassiveAggressiveClassifier        0.71               0.61     0.61      0.70   \n",
      "Perceptron                         0.69               0.59     0.59      0.68   \n",
      "DummyClassifier                    0.73               0.50     0.50      0.62   \n",
      "\n",
      "                               Time Taken  \n",
      "Model                                      \n",
      "BernoulliNB                          0.01  \n",
      "NearestCentroid                      0.01  \n",
      "GaussianNB                           0.01  \n",
      "LogisticRegression                   0.01  \n",
      "LinearDiscriminantAnalysis           0.03  \n",
      "LinearSVC                            0.02  \n",
      "CalibratedClassifierCV               0.11  \n",
      "RidgeClassifierCV                    0.02  \n",
      "RidgeClassifier                      0.01  \n",
      "LGBMClassifier                       0.47  \n",
      "AdaBoostClassifier                   0.27  \n",
      "SVC                                  0.57  \n",
      "SGDClassifier                        0.03  \n",
      "KNeighborsClassifier                 0.07  \n",
      "XGBClassifier                        0.16  \n",
      "ExtraTreesClassifier                 0.41  \n",
      "RandomForestClassifier               0.41  \n",
      "NuSVC                                0.67  \n",
      "LabelPropagation                     0.40  \n",
      "LabelSpreading                       0.59  \n",
      "BaggingClassifier                    0.22  \n",
      "ExtraTreeClassifier                  0.01  \n",
      "QuadraticDiscriminantAnalysis        0.02  \n",
      "DecisionTreeClassifier               0.04  \n",
      "PassiveAggressiveClassifier          0.02  \n",
      "Perceptron                           0.01  \n",
      "DummyClassifier                      0.01  \n"
     ]
    }
   ],
   "source": [
    "clf=LazyClassifier()\n",
    "modeller,tahmin=clf.fit(X_train,X_test,y_train,y_test)\n",
    "sıra=modeller.sort_values(by=\"Accuracy\", ascending=True)\n",
    "print(modeller)\n"
   ]
  },
  {
   "cell_type": "code",
   "execution_count": 49,
   "id": "771b7cd5-56d3-4e9b-82f5-6705962f34c6",
   "metadata": {},
   "outputs": [
    {
     "data": {
      "image/png": "[encoded data removed]",
      "text/plain": [
       "<Figure size 640x480 with 1 Axes>"
      ]
     },
     "metadata": {},
     "output_type": "display_data"
    }
   ],
   "source": [
    "plt.barh(sıra.index,sıra[\"Accuracy\"])\n",
    "plt.show()"
   ]
  },
  {
   "cell_type": "code",
   "execution_count": 50,
   "id": "aecf03f4-bc1e-4f1d-b6cc-5d77e1068d4b",
   "metadata": {},
   "outputs": [],
   "source": [
    "models=[\"LinearSVC\", \"SVC\", \"Ridge\", \"Logistic\", \"RandomForest\", \"LGBM\", \"XGBM\"]"
   ]
  },
  {
   "cell_type": "code",
   "execution_count": 51,
   "id": "6873a2cf-7c45-438c-822d-e957b9160037",
   "metadata": {},
   "outputs": [],
   "source": [
    "sınıflar=[LinearSVC(random_state=0), SVC(random_state=0), RidgeClassifier(random_state=0),\n",
    "          LogisticRegression(random_state=0), RandomForestClassifier(random_state=0),\n",
    "          LGBMClassifier(random_state=0), XGBClassifier()]"
   ]
  },
  {
   "cell_type": "code",
   "execution_count": 52,
   "id": "c2cc0b0a-24bc-4a6b-9368-e9b9e5fc65a7",
   "metadata": {},
   "outputs": [],
   "source": [
    "parametreler={\n",
    "    models[0]:{\"C\":[0.1,1,10,100], \"penalty\":[\"l1\",\"l2\"]},\n",
    "    models[1]:{\"kernel\":[\"linear\", \"rbf\"], \"C\":[0.1,1], \"gamma\":[0.01, 0.001]},\n",
    "    models[2]:{\"alpha\":[0.1, 1.0]},\n",
    "    models[3]:{\"C\":[0.1,1], \"penalty\":[\"l1\",\"l2\"]},\n",
    "    models[4]:{\"n_estimators\":[1000,2000], \"max_depth\":[4,10], \"min_samples_split\":[2,5]},\n",
    "    models[5]:{\"learning_rate\":[0.001, 0.01], \"n_estimators\":[1000,2000], \"max_depth\":[4,10], \"subsample\":[0.6,0.8]},\n",
    "    models[6]:{\"learning_rate\":[0.001, 0.01], \"n_estimators\":[1000,2000], \"max_depth\":[4,10], \"subsample\":[0.6,0.8]}}"
   ]
  },
  {
   "cell_type": "code",
   "execution_count": 53,
   "id": "cbb11f21-a004-4a79-8238-f21882522e5c",
   "metadata": {},
   "outputs": [
    {
     "name": "stdout",
     "output_type": "stream",
     "text": [
      "{'alpha': [0.1, 1.0]}\n"
     ]
    }
   ],
   "source": [
    "print(parametreler[\"Ridge\"])"
   ]
  },
  {
   "cell_type": "code",
   "execution_count": 54,
   "id": "09578532-fc1b-488f-a8af-a97a980e56d2",
   "metadata": {},
   "outputs": [],
   "source": [
    "def cozum(model):\n",
    "    model.fit(X_train,y_train)\n",
    "    return model"
   ]
  },
  {
   "cell_type": "code",
   "execution_count": 55,
   "id": "a4d81157-f874-4854-9b1d-0424d77f186e",
   "metadata": {},
   "outputs": [],
   "source": [
    "def skor(model2):\n",
    "    tahmin=cozum(model2).predict(X_test)\n",
    "    acs=accuracy_score(y_test,tahmin)\n",
    "    return acs*100"
   ]
  },
  {
   "cell_type": "code",
   "execution_count": 56,
   "id": "22691c8d-3978-4475-9fc0-355b76f1ae60",
   "metadata": {
    "scrolled": true
   },
   "outputs": [
    {
     "name": "stdout",
     "output_type": "stream",
     "text": [
      "79.317697228145\n"
     ]
    }
   ],
   "source": [
    "print(skor(sınıflar[0]))"
   ]
  },
  {
   "cell_type": "code",
   "execution_count": null,
   "id": "b46a2f6c-6c35-4871-8e89-1d2dd7e1e6c6",
   "metadata": {},
   "outputs": [],
   "source": []
  }
 ],
 "metadata": {
  "kernelspec": {
   "display_name": "Python 3 (ipykernel)",
   "language": "python",
   "name": "python3"
  },
  "language_info": {
   "codemirror_mode": {
    "name": "ipython",
    "version": 3
   },
   "file_extension": ".py",
   "mimetype": "text/x-python",
   "name": "python",
   "nbconvert_exporter": "python",
   "pygments_lexer": "ipython3",
   "version": "3.13.2"
  }
 },
 "nbformat": 4,
 "nbformat_minor": 5
}
