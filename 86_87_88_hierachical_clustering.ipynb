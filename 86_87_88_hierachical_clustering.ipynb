{
 "cells": [
  {
   "cell_type": "code",
   "execution_count": 12,
   "id": "876bdef4-2c5c-4830-af16-c583f7638a2c",
   "metadata": {},
   "outputs": [],
   "source": [
    "import pandas as pd\n",
    "from sklearn.cluster import AgglomerativeClustering\n",
    "import matplotlib.pyplot as plt\n",
    "from scipy.cluster.hierarchy import dendrogram, linkage"
   ]
  },
  {
   "cell_type": "code",
   "execution_count": 13,
   "id": "9eaf5f38-bf33-4067-bbaa-509bc5113499",
   "metadata": {},
   "outputs": [
    {
     "name": "stdout",
     "output_type": "stream",
     "text": [
      "     CustomerID  Gender  Age  Annual Income (k$)  Spending Score (1-100)\n",
      "0             1    Male   19                  15                      39\n",
      "1             2    Male   21                  15                      81\n",
      "2             3  Female   20                  16                       6\n",
      "3             4  Female   23                  16                      77\n",
      "4             5  Female   31                  17                      40\n",
      "..          ...     ...  ...                 ...                     ...\n",
      "195         196  Female   35                 120                      79\n",
      "196         197  Female   45                 126                      28\n",
      "197         198    Male   32                 126                      74\n",
      "198         199    Male   32                 137                      18\n",
      "199         200    Male   30                 137                      83\n",
      "\n",
      "[200 rows x 5 columns]\n"
     ]
    }
   ],
   "source": [
    "data=pd.read_csv(\"/Users/erdemtasdelen/Downloads/Mall_Customers.csv\")\n",
    "veri=data.copy()\n",
    "print(veri)"
   ]
  },
  {
   "cell_type": "code",
   "execution_count": 25,
   "id": "14cdb4b0-43ca-4c55-a729-77f616d8ecb5",
   "metadata": {},
   "outputs": [
    {
     "name": "stdout",
     "output_type": "stream",
     "text": [
      "    Age  Annual Income (k$)\n",
      "0    19                  15\n",
      "1    21                  15\n",
      "2    20                  16\n",
      "3    23                  16\n",
      "4    31                  17\n",
      "5    22                  17\n",
      "6    35                  18\n",
      "7    23                  18\n",
      "8    64                  19\n",
      "9    30                  19\n",
      "10   67                  19\n",
      "11   35                  19\n",
      "12   58                  20\n",
      "13   24                  20\n",
      "14   37                  20\n",
      "15   22                  20\n",
      "16   35                  21\n",
      "17   20                  21\n",
      "18   52                  23\n",
      "19   35                  23\n"
     ]
    }
   ],
   "source": [
    "X=veri.iloc[0:20,2:4]\n",
    "print(X)"
   ]
  },
  {
   "cell_type": "code",
   "execution_count": 26,
   "id": "983969f8-82ef-4004-9b3a-2c55bb05196c",
   "metadata": {},
   "outputs": [
    {
     "name": "stdout",
     "output_type": "stream",
     "text": [
      "[0 0 0 0 0 0 0 0 1 0 1 0 1 0 0 0 0 0 1 0]\n"
     ]
    }
   ],
   "source": [
    "model=AgglomerativeClustering()\n",
    "tahmin=model.fit_predict(X)\n",
    "print(tahmin)\n"
   ]
  },
  {
   "cell_type": "code",
   "execution_count": 27,
   "id": "df53792c-b090-467a-96de-77baaf5b3e02",
   "metadata": {},
   "outputs": [
    {
     "name": "stdout",
     "output_type": "stream",
     "text": [
      "     CustomerID  Gender  Age  Annual Income (k$)  Spending Score (1-100)\n",
      "0             1    Male   19                  15                      39\n",
      "1             2    Male   21                  15                      81\n",
      "2             3  Female   20                  16                       6\n",
      "3             4  Female   23                  16                      77\n",
      "4             5  Female   31                  17                      40\n",
      "..          ...     ...  ...                 ...                     ...\n",
      "195         196  Female   35                 120                      79\n",
      "196         197  Female   45                 126                      28\n",
      "197         198    Male   32                 126                      74\n",
      "198         199    Male   32                 137                      18\n",
      "199         200    Male   30                 137                      83\n",
      "\n",
      "[200 rows x 5 columns]\n",
      "    Age  Annual Income (k$)\n",
      "0    19                  15\n",
      "1    21                  15\n",
      "2    20                  16\n",
      "3    23                  16\n",
      "4    31                  17\n",
      "5    22                  17\n",
      "6    35                  18\n",
      "7    23                  18\n",
      "8    64                  19\n",
      "9    30                  19\n",
      "10   67                  19\n",
      "11   35                  19\n",
      "12   58                  20\n",
      "13   24                  20\n",
      "14   37                  20\n",
      "15   22                  20\n",
      "16   35                  21\n",
      "17   20                  21\n",
      "18   52                  23\n",
      "19   35                  23\n"
     ]
    }
   ],
   "source": [
    "print(veri)\n",
    "print(X)"
   ]
  },
  {
   "cell_type": "code",
   "execution_count": 28,
   "id": "5207b321-e35e-4183-a556-843b5cbdaba6",
   "metadata": {},
   "outputs": [
    {
     "name": "stdout",
     "output_type": "stream",
     "text": [
      "    Age  Annual Income (k$)  Label\n",
      "0    19                  15      0\n",
      "1    21                  15      0\n",
      "2    20                  16      0\n",
      "3    23                  16      0\n",
      "4    31                  17      0\n",
      "5    22                  17      0\n",
      "6    35                  18      0\n",
      "7    23                  18      0\n",
      "8    64                  19      1\n",
      "9    30                  19      0\n",
      "10   67                  19      1\n",
      "11   35                  19      0\n",
      "12   58                  20      1\n",
      "13   24                  20      0\n",
      "14   37                  20      0\n",
      "15   22                  20      0\n",
      "16   35                  21      0\n",
      "17   20                  21      0\n",
      "18   52                  23      1\n",
      "19   35                  23      0\n"
     ]
    }
   ],
   "source": [
    "X[\"Label\"]=tahmin\n",
    "print(X)"
   ]
  },
  {
   "cell_type": "code",
   "execution_count": 29,
   "id": "c0d5205c-0cd1-41a9-b66f-5d8b456546ce",
   "metadata": {},
   "outputs": [
    {
     "name": "stdout",
     "output_type": "stream",
     "text": [
      "0     19\n",
      "1     21\n",
      "2     20\n",
      "3     23\n",
      "4     31\n",
      "5     22\n",
      "6     35\n",
      "7     23\n",
      "9     30\n",
      "11    35\n",
      "13    24\n",
      "14    37\n",
      "15    22\n",
      "16    35\n",
      "17    20\n",
      "19    35\n",
      "Name: Age, dtype: int64\n"
     ]
    }
   ],
   "source": [
    "print(X[\"Age\"][X[\"Label\"]==0])"
   ]
  },
  {
   "cell_type": "code",
   "execution_count": 30,
   "id": "ee968cfd-2d7a-471d-b7f7-01277a5d452c",
   "metadata": {},
   "outputs": [
    {
     "data": {
      "image/png": "[encoded data removed]",
      "text/plain": [
       "<Figure size 640x480 with 1 Axes>"
      ]
     },
     "metadata": {},
     "output_type": "display_data"
    }
   ],
   "source": [
    "plt.scatter(X[\"Age\"][X[\"Label\"]==0],X[\"Annual Income (k$)\"][X[\"Label\"]==0], c=\"red\")\n",
    "plt.scatter(X[\"Age\"][X[\"Label\"]==1],X[\"Annual Income (k$)\"][X[\"Label\"]==1], c=\"black\")\n",
    "plt.show()"
   ]
  },
  {
   "cell_type": "code",
   "execution_count": 31,
   "id": "b7686ec0-c9af-4e69-b560-dd4353251d1a",
   "metadata": {},
   "outputs": [
    {
     "data": {
      "image/png": "[encoded data removed]",
      "text/plain": [
       "<Figure size 640x480 with 1 Axes>"
      ]
     },
     "metadata": {},
     "output_type": "display_data"
    }
   ],
   "source": [
    "link=linkage(X)\n",
    "dendrogram(link)\n",
    "plt.xlabel(\"Veri Noktaları\")\n",
    "plt.ylabel(\"Mesafe\")\n",
    "plt.show()"
   ]
  },
  {
   "cell_type": "code",
   "execution_count": null,
   "id": "f4331eeb-9380-4b4a-a04d-177599e72d98",
   "metadata": {},
   "outputs": [],
   "source": []
  }
 ],
 "metadata": {
  "kernelspec": {
   "display_name": "Python 3 (ipykernel)",
   "language": "python",
   "name": "python3"
  },
  "language_info": {
   "codemirror_mode": {
    "name": "ipython",
    "version": 3
   },
   "file_extension": ".py",
   "mimetype": "text/x-python",
   "name": "python",
   "nbconvert_exporter": "python",
   "pygments_lexer": "ipython3",
   "version": "3.13.2"
  }
 },
 "nbformat": 4,
 "nbformat_minor": 5
}
