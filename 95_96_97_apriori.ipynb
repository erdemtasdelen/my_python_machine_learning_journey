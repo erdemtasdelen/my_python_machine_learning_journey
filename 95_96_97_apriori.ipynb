{
 "cells": [
  {
   "cell_type": "code",
   "execution_count": 18,
   "id": "c30fbd0d-01bd-4fba-b631-eb4cd7c32634",
   "metadata": {},
   "outputs": [],
   "source": [
    "import pandas as pd\n",
    "from mlxtend.preprocessing import TransactionEncoder\n",
    "from mlxtend.frequent_patterns import apriori, association_rules"
   ]
  },
  {
   "cell_type": "code",
   "execution_count": 19,
   "id": "0c4f1749-55ef-4f0f-8f13-69ab6fcaeee2",
   "metadata": {},
   "outputs": [
    {
     "name": "stdout",
     "output_type": "stream",
     "text": [
      "[['BISCUIT'], ['BOURNVITA'], ['BISCUIT'], ['BOURNVITA'], ['CORNFLAKES'], ['BOURNVITA'], ['COCK'], ['BISCUIT'], ['CORNFLAKES'], ['BOURNVITA'], ['SUGER'], ['SUGER']]\n"
     ]
    }
   ],
   "source": [
    "data=pd.read_csv(\"/Users/erdemtasdelen/Downloads/GroceryStoreDataSet.csv\", header=None, names=[\"Ürün\"], on_bad_lines=\"skip\")\n",
    "veri=data.copy()\n",
    "veri=data[\"Ürün\"].dropna().apply(lambda x: x.split(\",\")).tolist()\n",
    "print(veri)"
   ]
  },
  {
   "cell_type": "code",
   "execution_count": 20,
   "id": "665d030e-6656-43df-9ac7-4e4e24ec9792",
   "metadata": {},
   "outputs": [
    {
     "name": "stdout",
     "output_type": "stream",
     "text": [
      "    BISCUIT  BOURNVITA   COCK  CORNFLAKES  SUGER\n",
      "0      True      False  False       False  False\n",
      "1     False       True  False       False  False\n",
      "2      True      False  False       False  False\n",
      "3     False       True  False       False  False\n",
      "4     False      False  False        True  False\n",
      "5     False       True  False       False  False\n",
      "6     False      False   True       False  False\n",
      "7      True      False  False       False  False\n",
      "8     False      False  False        True  False\n",
      "9     False       True  False       False  False\n",
      "10    False      False  False       False   True\n",
      "11    False      False  False       False   True\n"
     ]
    }
   ],
   "source": [
    "te=TransactionEncoder()\n",
    "teveri=te.fit_transform(veri)\n",
    "\n",
    "veri=pd.DataFrame(teveri,columns=te.columns_)\n",
    "print(veri)"
   ]
  },
  {
   "cell_type": "code",
   "execution_count": 21,
   "id": "29e8351e-ab38-43a4-ae79-7808c2169495",
   "metadata": {},
   "outputs": [
    {
     "name": "stdout",
     "output_type": "stream",
     "text": [
      "    support      itemsets\n",
      "0  0.250000     (BISCUIT)\n",
      "1  0.333333   (BOURNVITA)\n",
      "2  0.083333        (COCK)\n",
      "3  0.166667  (CORNFLAKES)\n",
      "4  0.166667       (SUGER)\n"
     ]
    }
   ],
   "source": [
    "df1=apriori(veri, min_support=0.05, use_colnames=True)\n",
    "print(df1)"
   ]
  },
  {
   "cell_type": "code",
   "execution_count": 22,
   "id": "699a7c6e-1c90-4474-94a2-bf16727cf035",
   "metadata": {},
   "outputs": [
    {
     "name": "stdout",
     "output_type": "stream",
     "text": [
      "Empty DataFrame\n",
      "Columns: [antecedents, consequents, antecedent support, consequent support, support, confidence, lift, representativity, leverage, conviction, zhangs_metric, jaccard, certainty, kulczynski]\n",
      "Index: []\n"
     ]
    }
   ],
   "source": [
    "df2=association_rules(df1, metric=\"confidence\", min_threshold=0.5)\n",
    "print(df2)"
   ]
  },
  {
   "cell_type": "code",
   "execution_count": null,
   "id": "2f672e25-de43-43f8-b758-d326afe1bf40",
   "metadata": {},
   "outputs": [],
   "source": []
  }
 ],
 "metadata": {
  "kernelspec": {
   "display_name": "Python 3 (ipykernel)",
   "language": "python",
   "name": "python3"
  },
  "language_info": {
   "codemirror_mode": {
    "name": "ipython",
    "version": 3
   },
   "file_extension": ".py",
   "mimetype": "text/x-python",
   "name": "python",
   "nbconvert_exporter": "python",
   "pygments_lexer": "ipython3",
   "version": "3.13.2"
  }
 },
 "nbformat": 4,
 "nbformat_minor": 5
}
