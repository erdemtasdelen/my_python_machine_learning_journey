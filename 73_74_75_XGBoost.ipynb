{
 "cells": [
  {
   "cell_type": "code",
   "execution_count": 24,
   "id": "3efbfb93-aa7b-4bfa-a43c-86ed55fbee12",
   "metadata": {},
   "outputs": [],
   "source": [
    "from xgboost import XGBClassifier\n",
    "import pandas as pd\n",
    "from sklearn.model_selection import train_test_split, GridSearchCV\n",
    "from sklearn.preprocessing import StandardScaler\n",
    "from sklearn.metrics import accuracy_score\n",
    "from sklearn.naive_bayes import GaussianNB"
   ]
  },
  {
   "cell_type": "code",
   "execution_count": 25,
   "id": "8bac0fdf-b97f-4583-8590-e0bc61c2ff05",
   "metadata": {},
   "outputs": [],
   "source": [
    "data=pd.read_csv(\"/Users/erdemtasdelen/Desktop/python_lessons/data/diabetes_dataset.csv\")\n",
    "veri=data.copy()"
   ]
  },
  {
   "cell_type": "code",
   "execution_count": 26,
   "id": "793a31f3-0373-4780-95b8-2664d8208623",
   "metadata": {},
   "outputs": [
    {
     "name": "stdout",
     "output_type": "stream",
     "text": [
      "     Pregnancies  Glucose  BloodPressure  SkinThickness  Insulin   BMI  \\\n",
      "0              6      148             72             35        0  33.6   \n",
      "1              1       85             66             29        0  26.6   \n",
      "2              8      183             64              0        0  23.3   \n",
      "3              1       89             66             23       94  28.1   \n",
      "4              0      137             40             35      168  43.1   \n",
      "..           ...      ...            ...            ...      ...   ...   \n",
      "763           10      101             76             48      180  32.9   \n",
      "764            2      122             70             27        0  36.8   \n",
      "765            5      121             72             23      112  26.2   \n",
      "766            1      126             60              0        0  30.1   \n",
      "767            1       93             70             31        0  30.4   \n",
      "\n",
      "     DiabetesPedigreeFunction  Age  Outcome  \n",
      "0                       0.627   50        1  \n",
      "1                       0.351   31        0  \n",
      "2                       0.672   32        1  \n",
      "3                       0.167   21        0  \n",
      "4                       2.288   33        1  \n",
      "..                        ...  ...      ...  \n",
      "763                     0.171   63        0  \n",
      "764                     0.340   27        0  \n",
      "765                     0.245   30        0  \n",
      "766                     0.349   47        1  \n",
      "767                     0.315   23        0  \n",
      "\n",
      "[768 rows x 9 columns]\n"
     ]
    }
   ],
   "source": [
    "print(veri)"
   ]
  },
  {
   "cell_type": "code",
   "execution_count": 27,
   "id": "ab61e47b-82b5-4b44-80f0-74fb9b9683f1",
   "metadata": {},
   "outputs": [],
   "source": [
    "y=veri[\"Outcome\"]\n",
    "X=veri.drop(columns=\"Outcome\",axis=1)\n",
    "\n"
   ]
  },
  {
   "cell_type": "code",
   "execution_count": 28,
   "id": "5857e8f9-e692-4710-a427-82197d6acc80",
   "metadata": {},
   "outputs": [],
   "source": [
    "X_train,X_test,y_train,y_test=train_test_split(X,y,test_size=0.2,random_state=42)"
   ]
  },
  {
   "cell_type": "code",
   "execution_count": 29,
   "id": "10c31ba5-d009-480b-bd8b-e39afd6d9a17",
   "metadata": {},
   "outputs": [],
   "source": [
    "sc=StandardScaler()\n",
    "X_train=sc.fit_transform(X_train)\n",
    "X_test=sc.transform(X_test)\n"
   ]
  },
  {
   "cell_type": "code",
   "execution_count": 30,
   "id": "4b6d078a-0b26-4df9-883e-794209781349",
   "metadata": {},
   "outputs": [],
   "source": [
    "modelxgb=XGBClassifier(learning_rate=0.2, max_depth=5, n_estimators=1000, subsample=0.5)\n",
    "modelxgb.fit(X_train,y_train)\n",
    "tahminxgb=modelxgb.predict(X_test)"
   ]
  },
  {
   "cell_type": "code",
   "execution_count": 31,
   "id": "1a17a147-13b5-48e8-8042-37ac13e3fdc5",
   "metadata": {},
   "outputs": [
    {
     "name": "stdout",
     "output_type": "stream",
     "text": [
      "68.83116883116884\n"
     ]
    }
   ],
   "source": [
    "acs=accuracy_score(y_test,tahminxgb)\n",
    "print(acs*100)\n"
   ]
  },
  {
   "cell_type": "code",
   "execution_count": 32,
   "id": "42472b26-6fe0-4a59-b4a4-8041c95e9ee7",
   "metadata": {},
   "outputs": [],
   "source": [
    "modelbay=GaussianNB()\n",
    "modelbay.fit(X_train,y_train)\n",
    "tahminbay=modelbay.predict(X_test)"
   ]
  },
  {
   "cell_type": "code",
   "execution_count": 33,
   "id": "b4f355cc-9a7b-49a4-9a05-6a637d479e51",
   "metadata": {},
   "outputs": [
    {
     "name": "stdout",
     "output_type": "stream",
     "text": [
      "76.62337662337663\n"
     ]
    }
   ],
   "source": [
    "acs2=accuracy_score(y_test,tahminbay)\n",
    "print(acs2*100)"
   ]
  },
  {
   "cell_type": "code",
   "execution_count": 34,
   "id": "b607b4e5-2bd8-433a-992e-d49ea2937a50",
   "metadata": {},
   "outputs": [],
   "source": [
    "parametreler={\"max_depth\":[3,5,7],\n",
    "              \"subsample\":[0.2,0.5,0.7],\n",
    "              \"n_estimators\":[500,1000,2000],\n",
    "              \"learning_rate\":[0.2,0.5,0.7]}\n"
   ]
  },
  {
   "cell_type": "code",
   "execution_count": null,
   "id": "13bc91b4-2a10-4364-a71b-ab13966135cc",
   "metadata": {},
   "outputs": [],
   "source": [
    "\n",
    "grid=GridSearchCV(modelxgb,param_grid=parametreler,cv=10,n_jobs=-1)\n",
    "grid.fit(X_train,y_train)\n",
    "print(grid.best_params_)"
   ]
  },
  {
   "cell_type": "code",
   "execution_count": null,
   "id": "16e0f0c0-0c15-4e11-a7b2-a3405f1b4b67",
   "metadata": {},
   "outputs": [],
   "source": []
  },
  {
   "cell_type": "code",
   "execution_count": null,
   "id": "6b474f2d-8b3b-4e33-ba1b-aaf68bf269df",
   "metadata": {},
   "outputs": [],
   "source": []
  }
 ],
 "metadata": {
  "kernelspec": {
   "display_name": "Python 3 (ipykernel)",
   "language": "python",
   "name": "python3"
  },
  "language_info": {
   "codemirror_mode": {
    "name": "ipython",
    "version": 3
   },
   "file_extension": ".py",
   "mimetype": "text/x-python",
   "name": "python",
   "nbconvert_exporter": "python",
   "pygments_lexer": "ipython3",
   "version": "3.13.2"
  }
 },
 "nbformat": 4,
 "nbformat_minor": 5
}
